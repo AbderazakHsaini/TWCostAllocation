{
 "cells": [
  {
   "cell_type": "code",
   "execution_count": 61,
   "metadata": {},
   "outputs": [],
   "source": [
    "import numpy as np\n",
    "import matplotlib.pyplot as plt\n",
    "import itertools\n",
    "import math\n",
    "\n",
    "from pyvrp import Model, Solution\n",
    "from pyvrp.plotting import plot_coordinates, plot_solution\n",
    "from pyvrp.stop import MaxRuntime"
   ]
  },
  {
   "cell_type": "code",
   "execution_count": 62,
   "metadata": {},
   "outputs": [],
   "source": [
    "\n",
    "COORDS = [\n",
    "    (456, 320),  # location 0 - the depot\n",
    "    (228, 0),    # location 1\n",
    "    (912, 0),    # location 2\n",
    "    (0, 80),     # location 3\n",
    "    (67, 24),    # location 4\n",
    "    (234, 145),  # location 5\n",
    "    (113, 221),  # location 6\n",
    "    (380, 200)  # location 7\n",
    "    ]\n",
    "DEMANDS = [0, 1, 1, 1, 1, 1, 1, 1]\n",
    "\n"
   ]
  },
  {
   "cell_type": "code",
   "execution_count": 63,
   "metadata": {},
   "outputs": [],
   "source": [
    "\n",
    "DURATION_MATRIX = [\n",
    "        [0, 1, 1, 1, 1, 1, 1, 1],\n",
    "        [1, 0, 1, 1, 1, 1, 1, 1],\n",
    "        [1, 1, 0, 1, 1, 1, 1, 1],\n",
    "        [1, 1, 1, 0, 1, 1, 1, 1],\n",
    "        [1, 1, 1, 1, 0, 1, 1, 1],\n",
    "        [1, 1, 1, 1, 1, 0, 1, 1],\n",
    "        [1, 1, 1, 1, 1, 1, 0, 1],\n",
    "        [1, 1, 1, 1, 1, 1, 1, 0]\n",
    "]\n",
    "TIME_WINDOWS = [\n",
    "        (8, 18),  # location 0 - the depot (modified to be unrestricted)\n",
    "        (8, 12),   # location 1\n",
    "        (12, 14),  # location 2\n",
    "        (14, 16),  # location 3\n",
    "        (8, 10),   # location 4\n",
    "        (10, 12),  # location 5\n",
    "        (12, 14),  # location 6\n",
    "        (14, 16)   # location 7\n",
    "]\n",
    "\n"
   ]
  },
  {
   "cell_type": "code",
   "execution_count": 64,
   "metadata": {},
   "outputs": [],
   "source": [
    "Number_of_vehicles = 1\n",
    "Vehicle_capacity = 10\n",
    "service_time = 0\n"
   ]
  },
  {
   "cell_type": "code",
   "execution_count": 65,
   "metadata": {},
   "outputs": [],
   "source": [
    "customers = set(range(1, len(COORDS)))"
   ]
  },
  {
   "cell_type": "code",
   "execution_count": 66,
   "metadata": {},
   "outputs": [
    {
     "name": "stdout",
     "output_type": "stream",
     "text": [
      "[set(), {1}, {2}, {3}, {4}, {5}, {6}, {7}, {1, 2}, {1, 3}, {1, 4}, {1, 5}, {1, 6}, {1, 7}, {2, 3}, {2, 4}, {2, 5}, {2, 6}, {2, 7}, {3, 4}, {3, 5}, {3, 6}, {3, 7}, {4, 5}, {4, 6}, {4, 7}, {5, 6}, {5, 7}, {6, 7}, {1, 2, 3}, {1, 2, 4}, {1, 2, 5}, {1, 2, 6}, {1, 2, 7}, {1, 3, 4}, {1, 3, 5}, {1, 3, 6}, {1, 3, 7}, {1, 4, 5}, {1, 4, 6}, {1, 4, 7}, {1, 5, 6}, {1, 5, 7}, {1, 6, 7}, {2, 3, 4}, {2, 3, 5}, {2, 3, 6}, {2, 3, 7}, {2, 4, 5}, {2, 4, 6}, {2, 4, 7}, {2, 5, 6}, {2, 5, 7}, {2, 6, 7}, {3, 4, 5}, {3, 4, 6}, {3, 4, 7}, {3, 5, 6}, {3, 5, 7}, {3, 6, 7}, {4, 5, 6}, {4, 5, 7}, {4, 6, 7}, {5, 6, 7}, {1, 2, 3, 4}, {1, 2, 3, 5}, {1, 2, 3, 6}, {1, 2, 3, 7}, {1, 2, 4, 5}, {1, 2, 4, 6}, {1, 2, 4, 7}, {1, 2, 5, 6}, {1, 2, 5, 7}, {1, 2, 6, 7}, {1, 3, 4, 5}, {1, 3, 4, 6}, {1, 3, 4, 7}, {1, 3, 5, 6}, {1, 3, 5, 7}, {1, 3, 6, 7}, {1, 4, 5, 6}, {1, 4, 5, 7}, {1, 4, 6, 7}, {1, 5, 6, 7}, {2, 3, 4, 5}, {2, 3, 4, 6}, {2, 3, 4, 7}, {2, 3, 5, 6}, {2, 3, 5, 7}, {2, 3, 6, 7}, {2, 4, 5, 6}, {2, 4, 5, 7}, {2, 4, 6, 7}, {2, 5, 6, 7}, {3, 4, 5, 6}, {3, 4, 5, 7}, {3, 4, 6, 7}, {3, 5, 6, 7}, {4, 5, 6, 7}, {1, 2, 3, 4, 5}, {1, 2, 3, 4, 6}, {1, 2, 3, 4, 7}, {1, 2, 3, 5, 6}, {1, 2, 3, 5, 7}, {1, 2, 3, 6, 7}, {1, 2, 4, 5, 6}, {1, 2, 4, 5, 7}, {1, 2, 4, 6, 7}, {1, 2, 5, 6, 7}, {1, 3, 4, 5, 6}, {1, 3, 4, 5, 7}, {1, 3, 4, 6, 7}, {1, 3, 5, 6, 7}, {1, 4, 5, 6, 7}, {2, 3, 4, 5, 6}, {2, 3, 4, 5, 7}, {2, 3, 4, 6, 7}, {2, 3, 5, 6, 7}, {2, 4, 5, 6, 7}, {3, 4, 5, 6, 7}, {1, 2, 3, 4, 5, 6}, {1, 2, 3, 4, 5, 7}, {1, 2, 3, 4, 6, 7}, {1, 2, 3, 5, 6, 7}, {1, 2, 4, 5, 6, 7}, {1, 3, 4, 5, 6, 7}, {2, 3, 4, 5, 6, 7}, {1, 2, 3, 4, 5, 6, 7}]\n"
     ]
    }
   ],
   "source": [
    "def all_subsets(s):\n",
    "    s = list(s)\n",
    "    return [set(combo) for r in range(len(s)+1) for combo in itertools.combinations(s, r)]\n",
    "\n",
    "print(all_subsets(customers))\n"
   ]
  },
  {
   "cell_type": "code",
   "execution_count": 67,
   "metadata": {},
   "outputs": [
    {
     "name": "stdout",
     "output_type": "stream",
     "text": [
      "[(8, 18), (8, 12), (12, 14), (14, 16), (8, 10), (10, 12), (12, 14), (14, 16)]\n",
      "[(8, 18), (8, 18), (8, 18), (8, 18), (8, 18), (8, 18), (8, 18), (8, 18)]\n",
      "[(8, 18), (8, 18), (12, 14), (14, 16), (8, 10), (10, 12), (12, 14), (14, 16)]\n",
      "[(8, 18), (8, 18), (8, 18), (14, 16), (8, 10), (10, 12), (12, 14), (14, 16)]\n",
      "[(8, 18), (8, 12), (12, 14), (8, 18), (8, 18), (8, 18), (8, 18), (8, 18)]\n",
      "7\n",
      "{1, 2, 3, 4, 5, 6, 7}\n"
     ]
    }
   ],
   "source": [
    "def relax_time_windows(time_windows_):\n",
    "    time_windows__ = time_windows_.copy()\n",
    "    return [(8, 18) for early, late in time_windows__]\n",
    "def relax_client_time_windows(time_windows_, client):\n",
    "    time_windows__ = time_windows_.copy()\n",
    "    time_windows__[client] = (8, 18)\n",
    "    return time_windows__\n",
    "def relax_clients_time_windows(time_windows_, clients):\n",
    "    time_windows__ = time_windows_.copy()\n",
    "    for client in clients:\n",
    "        time_windows__[client] = (8, 18)\n",
    "    return time_windows__\n",
    "def relax_time_windows_but_clients(time_windows_, clients):\n",
    "    time_windows__ = time_windows_.copy()\n",
    "    clients_ = list(set(range(len(time_windows__))) - set(clients))\n",
    "    for client in clients_:\n",
    "        time_windows__[client] = (8, 18)\n",
    "    return time_windows__\n",
    "\n",
    "print(TIME_WINDOWS)\n",
    "print(relax_time_windows(TIME_WINDOWS))\n",
    "print(relax_client_time_windows(TIME_WINDOWS, 1))\n",
    "print(relax_clients_time_windows(TIME_WINDOWS, {1, 2}))\n",
    "\n",
    "print(relax_time_windows_but_clients(TIME_WINDOWS, {1, 2}))\n",
    "\n",
    "\n",
    "print(len(customers))\n",
    "print(customers)"
   ]
  },
  {
   "cell_type": "code",
   "execution_count": null,
   "metadata": {},
   "outputs": [],
   "source": [
    "def coalition_cost(time_windows_, clients):\n",
    "    \n",
    "    TIME_WINDOWS_LOCAL = relax_time_windows_but_clients(time_windows_, clients)\n",
    "    m1 = Model()\n",
    "    m1.add_vehicle_type(\n",
    "        Number_of_vehicles,\n",
    "        capacity=Vehicle_capacity,\n",
    "        max_duration=1000,\n",
    "        tw_early=TIME_WINDOWS_LOCAL[0][0],\n",
    "        tw_late=TIME_WINDOWS_LOCAL[0][1],\n",
    "        )\n",
    "    depot = m1.add_depot(x=COORDS[0][0], y=COORDS[0][1])\n",
    "    clients = [\n",
    "        m1.add_client(\n",
    "        x=COORDS[idx][0],\n",
    "        y=COORDS[idx][1],\n",
    "        delivery=DEMANDS[idx],\n",
    "        service_duration=service_time,\n",
    "        tw_early=TIME_WINDOWS_LOCAL[idx][0],\n",
    "        tw_late=TIME_WINDOWS_LOCAL[idx][1],\n",
    "        )\n",
    "        for idx in range(1, len(COORDS))\n",
    "    ]\n",
    "    locations = [depot] + clients\n",
    "    distance_matrix = [[0] * len(locations) for _ in range(len(locations))]\n",
    "\n",
    "    for frm_idx, frm in enumerate(locations):\n",
    "        for to_idx, to in enumerate(locations):\n",
    "            distance = abs(frm.x - to.x) + abs(frm.y - to.y)  # Manhattan\n",
    "            duration = DURATION_MATRIX[frm_idx][to_idx]\n",
    "            m1.add_edge(frm, to, distance=distance, duration=duration)\n",
    "            distance_matrix[frm_idx][to_idx] = abs(frm.x - to.x) + abs(frm.y - to.y)  # Manhattan distance\n",
    "\n",
    "    res = m1.solve(stop=MaxRuntime(1), display=False)\n",
    "    return res.cost() \n",
    "    \n",
    "\n"
   ]
  },
  {
   "cell_type": "code",
   "execution_count": 69,
   "metadata": {},
   "outputs": [
    {
     "name": "stdout",
     "output_type": "stream",
     "text": [
      "{1: 39.447619047619035, 2: 344.347619047619, 3: 193.01428571428573, 4: 298.04761904761915, 5: 115.5142857142857, 6: 149.74761904761903, 7: 21.88095238095238}\n"
     ]
    }
   ],
   "source": [
    "def shapley_value_TW():\n",
    "    n = len(COORDS) -1\n",
    "    shapley_alloc = {i: 0 for i in customers}\n",
    "    for i in customers:\n",
    "        subsets = all_subsets(customers - {i})\n",
    "        for S in subsets:\n",
    "            weight = math.factorial(len(S)) * math.factorial(n - len(S) - 1) / math.factorial(n)\n",
    "            marginal = coalition_cost(TIME_WINDOWS,sorted(S.union({i}))) - coalition_cost(TIME_WINDOWS,S)\n",
    "            shapley_alloc[i] += weight * marginal\n",
    "    return shapley_alloc\n",
    "print(shapley_value_TW())"
   ]
  }
 ],
 "metadata": {
  "kernelspec": {
   "display_name": "Python 3",
   "language": "python",
   "name": "python3"
  },
  "language_info": {
   "codemirror_mode": {
    "name": "ipython",
    "version": 3
   },
   "file_extension": ".py",
   "mimetype": "text/x-python",
   "name": "python",
   "nbconvert_exporter": "python",
   "pygments_lexer": "ipython3",
   "version": "3.13.2"
  }
 },
 "nbformat": 4,
 "nbformat_minor": 2
}
